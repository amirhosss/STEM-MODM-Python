{
 "cells": [
  {
   "cell_type": "code",
   "execution_count": null,
   "metadata": {},
   "outputs": [],
   "source": [
    "I, J, K = [2, 2, 2]\n",
    "\n",
    "Ckj = [\n",
    "    [0.4, 0.3],\n",
    "    [1, 0]\n",
    "]\n",
    "Aij = [\n",
    "    [1, 1],\n",
    "    [2, 1]\n",
    "]\n",
    "Bi = [400, 500]"
   ]
  },
  {
   "cell_type": "code",
   "execution_count": null,
   "metadata": {},
   "outputs": [],
   "source": [
    "I, J, K = [9, 3, 2]\n",
    "\n",
    "Ckj = [\n",
    "    [-35, -40, -38],\n",
    "    [20, 22, 25]\n",
    "]\n",
    "Aij = [\n",
    "    [2, 1.75, 2.1],\n",
    "    [0.5, 0.6, 0.5],\n",
    "    [35, 40, 38],\n",
    "    [1, 0, 0],\n",
    "    [-1, 0, 0],\n",
    "    [0, 1, 0],\n",
    "    [0, -1, 0],\n",
    "    [0, 0, 1],\n",
    "    [0, 0, -1]\n",
    "]\n",
    "Bi = [20_000, 15_000, 450_000, 5_000, -3_000, 7_000, -4_000, 4_000, -2_000]"
   ]
  },
  {
   "cell_type": "code",
   "execution_count": null,
   "metadata": {},
   "outputs": [],
   "source": [
    "I, J, K = [3, 4, 3]\n",
    "\n",
    "Ckj = [\n",
    "    [10, 30, 50, 100],\n",
    "    [1, 1, 0, 0],\n",
    "    [1, 4, 6, 2]\n",
    "]\n",
    "Aij = [\n",
    "    [5, 3, 2, 0],\n",
    "    [0, 0, 3, 8],\n",
    "    [2, 3, 4, 6],\n",
    "]\n",
    "Bi = [240, 320, 180]"
   ]
  }
 ],
 "metadata": {
  "interpreter": {
   "hash": "55c251723805ba1e4488aaf039870beee10c7291dfaa9da35c8901f14cdcd6bd"
  },
  "kernelspec": {
   "display_name": "Python 3.9.7 64-bit ('venv': venv)",
   "language": "python",
   "name": "python3"
  },
  "language_info": {
   "name": "python",
   "version": "3.9.7"
  },
  "orig_nbformat": 4
 },
 "nbformat": 4,
 "nbformat_minor": 2
}
