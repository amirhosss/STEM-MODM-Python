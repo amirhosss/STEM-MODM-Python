{
 "cells": [
  {
   "cell_type": "markdown",
   "metadata": {},
   "source": [
    "# STEM Algorithm"
   ]
  },
  {
   "cell_type": "markdown",
   "metadata": {},
   "source": [
    "## Step 1"
   ]
  },
  {
   "cell_type": "code",
   "execution_count": 1,
   "metadata": {},
   "outputs": [],
   "source": [
    "import numpy as np\n",
    "import pyomo.environ as pyo"
   ]
  },
  {
   "cell_type": "markdown",
   "metadata": {},
   "source": [
    "#### Input"
   ]
  },
  {
   "cell_type": "code",
   "execution_count": 2,
   "metadata": {},
   "outputs": [],
   "source": [
    "I, J = 2, 2\n",
    "\n",
    "Cij = [\n",
    "    [0.4, 0.3],\n",
    "    [1, 0],\n",
    "]\n",
    "Aij = [\n",
    "    [1, 1],\n",
    "    [2, 1]\n",
    "]\n",
    "Bi = [400, 500]"
   ]
  },
  {
   "cell_type": "code",
   "execution_count": 3,
   "metadata": {},
   "outputs": [],
   "source": [
    "f = lambda i, *x: np.dot(x, np.array(Cij)[i].reshape(-1, 1))"
   ]
  },
  {
   "cell_type": "code",
   "execution_count": 4,
   "metadata": {},
   "outputs": [],
   "source": [
    "model = pyo.ConcreteModel()\n",
    "\n",
    "model.i = pyo.RangeSet(0, I-1)\n",
    "model.j = pyo.RangeSet(0, J-1)\n",
    "\n",
    "model.a = pyo.Param(model.i, model.j, initialize=dict(np.ndenumerate(Aij)))\n",
    "model.b = pyo.Param(model.i, initialize=dict(enumerate(Bi)))\n",
    "model.c = pyo.Param(model.i, model.j, initialize=dict(np.ndenumerate(Cij)))\n",
    "\n",
    "model.x = pyo.Var(model.j, domain=pyo.NonNegativeReals)\n",
    "\n",
    "\n",
    "def cons_rule(model, i):\n",
    "    return sum(model.a[i, j]*model.x[j] for j in model.j) <= model.b[i]\n",
    "model.cons = pyo.Constraint(model.i, rule=cons_rule)"
   ]
  },
  {
   "cell_type": "code",
   "execution_count": 5,
   "metadata": {},
   "outputs": [],
   "source": [
    "income_matrix = np.empty((I, I))"
   ]
  },
  {
   "cell_type": "code",
   "execution_count": 6,
   "metadata": {},
   "outputs": [
    {
     "name": "stdout",
     "output_type": "stream",
     "text": [
      "130.0\n",
      "250.0\n"
     ]
    }
   ],
   "source": [
    "for i in range(I):\n",
    "    model.obj = pyo.Objective(\n",
    "        expr=sum(model.c[i, j]*model.x[j] for j in model.j),\n",
    "        sense=pyo.maximize\n",
    "    )\n",
    "\n",
    "    opt = pyo.SolverFactory('cplex')\n",
    "    opt.solve(model)\n",
    "\n",
    "    x = [pyo.value(model.x[j]) for j in model.j]\n",
    "    obj = pyo.value(model.obj)\n",
    "    print(obj)\n",
    "    \n",
    "    del model.obj\n",
    "\n",
    "    matrix = np.array([])\n",
    "    for j in range(I):\n",
    "        if i == j:\n",
    "            income_matrix[i, j] = obj\n",
    "            continue  \n",
    "        income_matrix[i, j] = f(j, *x)"
   ]
  },
  {
   "cell_type": "code",
   "execution_count": 7,
   "metadata": {},
   "outputs": [],
   "source": [
    "alpha = np.empty(I)"
   ]
  },
  {
   "cell_type": "code",
   "execution_count": 8,
   "metadata": {},
   "outputs": [],
   "source": [
    "for i in range(I):\n",
    "    f_star = income_matrix[i, i]\n",
    "    f_min = min(income_matrix[:, i])\n",
    "    c = np.floor(1/np.sqrt(sum(np.array(Cij)[i]**2)))\n",
    "\n",
    "    if income_matrix[i, i] > 0:\n",
    "        alpha[i] = (f_star-f_min)*c/(f_star)\n",
    "    else:\n",
    "        alpha[i] = (f_min-f_star)*c/(f_min)\n"
   ]
  },
  {
   "cell_type": "code",
   "execution_count": 9,
   "metadata": {},
   "outputs": [],
   "source": [
    "pi = alpha/sum(alpha)"
   ]
  },
  {
   "cell_type": "code",
   "execution_count": 10,
   "metadata": {},
   "outputs": [],
   "source": [
    "model.pi = pyo.Param(model.i, initialize=pi, mutable=True)\n",
    "model.lambd = pyo.Var(domain=pyo.NonNegativeReals)\n",
    "model.obj = pyo.Objective(expr=model.lambd)\n",
    "\n",
    "model.cons_dm = pyo.ConstraintList()\n",
    "for i in model.i:\n",
    "    model.cons_dm.add(\n",
    "        expr=model.lambd>=(income_matrix[i, i]-sum(model.c[i, j]*model.x[j] for j in model.j))*model.pi[i]\n",
    "    )"
   ]
  },
  {
   "cell_type": "code",
   "execution_count": 11,
   "metadata": {},
   "outputs": [
    {
     "name": "stdout",
     "output_type": "stream",
     "text": [
      "104.0\n",
      "230.0\n"
     ]
    }
   ],
   "source": [
    "opt = pyo.SolverFactory('cplex')\n",
    "opt.solve(model)\n",
    "\n",
    "x = [pyo.value(model.x[j]) for j in model.j]\n",
    "res = [f(i, *x) for i in range(I)]\n",
    "\n",
    "for func in res:\n",
    "    print(func[0])"
   ]
  },
  {
   "cell_type": "markdown",
   "metadata": {},
   "source": [
    "## Step 2"
   ]
  },
  {
   "cell_type": "markdown",
   "metadata": {},
   "source": [
    "#### Input"
   ]
  },
  {
   "cell_type": "code",
   "execution_count": 12,
   "metadata": {},
   "outputs": [],
   "source": [
    "func_old = np.array([104, 230])\n",
    "adjustment_data = {1: 30}"
   ]
  },
  {
   "cell_type": "code",
   "execution_count": 13,
   "metadata": {},
   "outputs": [],
   "source": [
    "adjustment_key = list(adjustment_data.keys())[0]\n",
    "adjustment_value = adjustment_data[adjustment_key]\n",
    "\n",
    "for i in range(I):\n",
    "    model.pi[i] = 1/(I-1)\n",
    "model.pi[adjustment_key] = 0\n",
    "\n",
    "for i in range(I):\n",
    "    if i == adjustment_key:\n",
    "        model.cons_dm.add(\n",
    "            expr=sum(model.c[i, j]*model.x[j] for j in model.j)>=(func_old[i]-adjustment_value)\n",
    "        )\n",
    "        continue\n",
    "    model.cons_dm.add(\n",
    "        expr=sum(model.c[i, j]*model.x[j] for j in model.j)>=func_old[i]\n",
    "    )"
   ]
  },
  {
   "cell_type": "code",
   "execution_count": 14,
   "metadata": {},
   "outputs": [
    {
     "name": "stdout",
     "output_type": "stream",
     "text": [
      "110.0\n",
      "200.0\n"
     ]
    }
   ],
   "source": [
    "opt = pyo.SolverFactory('cplex')\n",
    "opt.solve(model)\n",
    "\n",
    "x = [pyo.value(model.x[j]) for j in model.j]\n",
    "res = [f(i, *x) for i in range(I)]\n",
    "\n",
    "for func in res:\n",
    "    print(func[0])"
   ]
  }
 ],
 "metadata": {
  "interpreter": {
   "hash": "55c251723805ba1e4488aaf039870beee10c7291dfaa9da35c8901f14cdcd6bd"
  },
  "kernelspec": {
   "display_name": "Python 3.9.7 64-bit ('venv': venv)",
   "language": "python",
   "name": "python3"
  },
  "language_info": {
   "codemirror_mode": {
    "name": "ipython",
    "version": 3
   },
   "file_extension": ".py",
   "mimetype": "text/x-python",
   "name": "python",
   "nbconvert_exporter": "python",
   "pygments_lexer": "ipython3",
   "version": "3.9.7"
  },
  "orig_nbformat": 4
 },
 "nbformat": 4,
 "nbformat_minor": 2
}
