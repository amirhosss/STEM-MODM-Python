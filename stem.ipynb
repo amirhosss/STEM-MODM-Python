{
 "cells": [
  {
   "cell_type": "markdown",
   "metadata": {},
   "source": [
    "# STEM Algorithm"
   ]
  },
  {
   "cell_type": "code",
   "execution_count": 1,
   "metadata": {},
   "outputs": [],
   "source": [
    "import numpy as np\n",
    "import pyomo.environ as pyo"
   ]
  },
  {
   "cell_type": "code",
   "execution_count": 2,
   "metadata": {},
   "outputs": [],
   "source": [
    "ITERATIONS = 3\n",
    "I, J = 3, 4\n",
    "\n",
    "Cij = [\n",
    "    [10, 30, 50, 100],\n",
    "    [1, 1, 0, 0],\n",
    "    [1, 4, 6, 2]\n",
    "]\n",
    "Aij = [\n",
    "    [5, 3, 2, 0],\n",
    "    [0, 0, 3, 8],\n",
    "    [2, 3, 4, 6]\n",
    "]\n",
    "Bi = [240, 320, 180]"
   ]
  },
  {
   "cell_type": "code",
   "execution_count": 3,
   "metadata": {},
   "outputs": [],
   "source": [
    "f = lambda i, *x: np.dot(x, np.array(Cij)[i].reshape(-1, 1))"
   ]
  },
  {
   "cell_type": "code",
   "execution_count": 4,
   "metadata": {},
   "outputs": [],
   "source": [
    "model = pyo.ConcreteModel()\n",
    "\n",
    "model.i = pyo.RangeSet(0, I-1)\n",
    "model.j = pyo.RangeSet(0, J-1)\n",
    "\n",
    "model.a = pyo.Param(model.i, model.j, initialize=dict(np.ndenumerate(Aij)))\n",
    "model.b = pyo.Param(model.i, initialize=dict(enumerate(Bi)))\n",
    "model.c = pyo.Param(model.i, model.j, initialize=dict(np.ndenumerate(Cij)))\n",
    "\n",
    "model.x = pyo.Var(model.j, domain=pyo.NonNegativeReals)\n",
    "\n",
    "\n",
    "def cons_rule(model, i):\n",
    "    return sum(model.a[i, j]*model.x[j] for j in model.j) <= model.b[i]\n",
    "model.cons = pyo.Constraint(model.i, rule=cons_rule)"
   ]
  },
  {
   "cell_type": "code",
   "execution_count": 5,
   "metadata": {},
   "outputs": [],
   "source": [
    "income_matrix = np.empty((I, I))"
   ]
  },
  {
   "cell_type": "code",
   "execution_count": 6,
   "metadata": {},
   "outputs": [],
   "source": [
    "for i in range(I):\n",
    "    model.obj = pyo.Objective(\n",
    "        expr=sum(model.c[i, j]*model.x[j] for j in model.j),\n",
    "        sense=pyo.maximize\n",
    "    )\n",
    "\n",
    "    opt = pyo.SolverFactory('cplex')\n",
    "    opt.solve(model)\n",
    "\n",
    "    x = [pyo.value(model.x[j]) for j in model.j]\n",
    "    obj = pyo.value(model.obj)\n",
    "\n",
    "    del model.obj\n",
    "\n",
    "    matrix = np.array([])\n",
    "    for j in range(I):\n",
    "        if i == j:\n",
    "            income_matrix[i, j] = obj\n",
    "            continue  \n",
    "        income_matrix[i, j] = f(j, *x)"
   ]
  },
  {
   "cell_type": "code",
   "execution_count": 28,
   "metadata": {},
   "outputs": [],
   "source": [
    "alpha = np.empty(I)"
   ]
  },
  {
   "cell_type": "code",
   "execution_count": 29,
   "metadata": {},
   "outputs": [],
   "source": [
    "for i in range(I):\n",
    "    f_star = income_matrix[i, i]\n",
    "    f_min = min(income_matrix[:, i])\n",
    "    c = np.floor(np.sqrt(sum(np.array(Cij)[i])))\n",
    "\n",
    "    if income_matrix[i, i] > 0:\n",
    "        alpha[i] = (f_star-f_min)/(f_star*c)\n",
    "    else:\n",
    "        alpha[i] = (f_min-f_star)/(f_min*c)\n"
   ]
  },
  {
   "cell_type": "code",
   "execution_count": 31,
   "metadata": {},
   "outputs": [],
   "source": [
    "pi = alpha/sum(alpha)"
   ]
  },
  {
   "cell_type": "code",
   "execution_count": 34,
   "metadata": {},
   "outputs": [],
   "source": [
    "model.lambd = pyo.Var(domain=pyo.NonNegativeReals)\n",
    "model.obj = pyo.Objective(expr=model.lambd)\n",
    "\n",
    "model.cons_dm = pyo.ConstraintList()\n",
    "for i in model.i:\n",
    "    model.cons_dm.add(\n",
    "        expr=model.lambd>=(income_matrix[i, i]-sum(model.c[i, j]*model.x[j] for j in model.j))*pi[i]\n",
    "    )"
   ]
  },
  {
   "cell_type": "code",
   "execution_count": 36,
   "metadata": {},
   "outputs": [],
   "source": [
    "opt = pyo.SolverFactory('cplex')\n",
    "opt.solve(model)\n",
    "\n",
    "x = [pyo.value(model.x[j]) for j in model.j]\n",
    "res = [f(i, *x) for i in range(I)]"
   ]
  },
  {
   "cell_type": "code",
   "execution_count": 37,
   "metadata": {},
   "outputs": [
    {
     "data": {
      "text/plain": [
       "[array([2223.88059701]), array([38.80597015]), array([176.41791045])]"
      ]
     },
     "execution_count": 37,
     "metadata": {},
     "output_type": "execute_result"
    }
   ],
   "source": [
    "res"
   ]
  }
 ],
 "metadata": {
  "interpreter": {
   "hash": "55c251723805ba1e4488aaf039870beee10c7291dfaa9da35c8901f14cdcd6bd"
  },
  "kernelspec": {
   "display_name": "Python 3.9.7 64-bit ('venv': venv)",
   "language": "python",
   "name": "python3"
  },
  "language_info": {
   "codemirror_mode": {
    "name": "ipython",
    "version": 3
   },
   "file_extension": ".py",
   "mimetype": "text/x-python",
   "name": "python",
   "nbconvert_exporter": "python",
   "pygments_lexer": "ipython3",
   "version": "3.9.7"
  },
  "orig_nbformat": 4
 },
 "nbformat": 4,
 "nbformat_minor": 2
}
