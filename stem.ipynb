{
 "cells": [
  {
   "cell_type": "markdown",
   "metadata": {},
   "source": [
    "# STEM Algorithm"
   ]
  },
  {
   "cell_type": "markdown",
   "metadata": {},
   "source": [
    "## Step 1"
   ]
  },
  {
   "cell_type": "code",
   "execution_count": 18,
   "metadata": {},
   "outputs": [],
   "source": [
    "import numpy as np\n",
    "import pyomo.environ as pyo"
   ]
  },
  {
   "cell_type": "markdown",
   "metadata": {},
   "source": [
    "#### Input"
   ]
  },
  {
   "cell_type": "code",
   "execution_count": 19,
   "metadata": {},
   "outputs": [],
   "source": [
    "I, J, K = [9, 3, 2]\n",
    "\n",
    "Ckj = [\n",
    "    [-35, -40, -38],\n",
    "    [20, 22, 25]\n",
    "]\n",
    "Aij = [\n",
    "    [2, 1.75, 2.1],\n",
    "    [0.5, 0.6, 0.5],\n",
    "    [35, 40, 38],\n",
    "    [1, 0, 0],\n",
    "    [-1, 0, 0],\n",
    "    [0, 1, 0],\n",
    "    [0, -1, 0],\n",
    "    [0, 0, 1],\n",
    "    [0, 0, -1]\n",
    "]\n",
    "Bi = [20_000, 15_000, 450_000, 5_000, -3_000, 7_000, -4_000, 4_000, -2_000]"
   ]
  },
  {
   "cell_type": "code",
   "execution_count": 20,
   "metadata": {},
   "outputs": [],
   "source": [
    "f = lambda k, *x: np.dot(x, np.array(Ckj)[k].reshape(-1, 1))"
   ]
  },
  {
   "cell_type": "code",
   "execution_count": 21,
   "metadata": {},
   "outputs": [],
   "source": [
    "model = pyo.ConcreteModel()\n",
    "\n",
    "model.i = pyo.RangeSet(0, I-1)\n",
    "model.j = pyo.RangeSet(0, J-1)\n",
    "model.k = pyo.RangeSet(0, K-1)\n",
    "\n",
    "model.a = pyo.Param(model.i, model.j, initialize=dict(np.ndenumerate(Aij)))\n",
    "model.b = pyo.Param(model.i, initialize=dict(enumerate(Bi)))\n",
    "model.c = pyo.Param(model.k, model.j, initialize=dict(np.ndenumerate(Ckj)))\n",
    "\n",
    "model.x = pyo.Var(model.j, domain=pyo.NonNegativeReals)\n",
    "\n",
    "\n",
    "def cons_rule(model, i):\n",
    "    return sum(model.a[i, j]*model.x[j] for j in model.j) <= model.b[i]\n",
    "model.cons = pyo.Constraint(model.i, rule=cons_rule)"
   ]
  },
  {
   "cell_type": "code",
   "execution_count": 22,
   "metadata": {},
   "outputs": [],
   "source": [
    "income_matrix = np.empty((K, K))"
   ]
  },
  {
   "cell_type": "code",
   "execution_count": 23,
   "metadata": {},
   "outputs": [
    {
     "name": "stdout",
     "output_type": "stream",
     "text": [
      "f_star0 = -341000.0\n",
      "f_star1 = 233200.0\n"
     ]
    }
   ],
   "source": [
    "for k in range(K):\n",
    "    model.obj = pyo.Objective(\n",
    "        expr=sum(model.c[k, j]*model.x[j] for j in model.j),\n",
    "        sense=pyo.maximize\n",
    "    )\n",
    "\n",
    "    opt = pyo.SolverFactory('cplex')\n",
    "    opt.solve(model)\n",
    "\n",
    "    x = [pyo.value(model.x[j]) for j in model.j]\n",
    "    obj = pyo.value(model.obj)\n",
    "    \n",
    "    print(f'f_star{k} = {obj}')\n",
    "    \n",
    "    del model.obj\n",
    "\n",
    "    matrix = np.array([])\n",
    "    for z in range(K):\n",
    "        if z == k:\n",
    "            income_matrix[k, z] = obj\n",
    "            continue  \n",
    "        income_matrix[k, z] = f(z, *x)"
   ]
  },
  {
   "cell_type": "code",
   "execution_count": 24,
   "metadata": {},
   "outputs": [],
   "source": [
    "alpha = np.empty(K)"
   ]
  },
  {
   "cell_type": "code",
   "execution_count": 25,
   "metadata": {},
   "outputs": [],
   "source": [
    "for k in range(K):\n",
    "    f_star = income_matrix[k, k]\n",
    "    f_min = min(income_matrix[:, k])\n",
    "    c = 1/np.sqrt(sum(np.array(Ckj)[k]**2))\n",
    "    if c >= 1:\n",
    "        c = np.floor(c)\n",
    "\n",
    "    if income_matrix[k, k] > 0:\n",
    "        alpha[k] = (f_star-f_min)*c/(f_star)\n",
    "    else:\n",
    "        alpha[k] = (f_min-f_star)*c/(f_min)\n"
   ]
  },
  {
   "cell_type": "code",
   "execution_count": 26,
   "metadata": {},
   "outputs": [],
   "source": [
    "pi = alpha/sum(alpha)"
   ]
  },
  {
   "cell_type": "code",
   "execution_count": 27,
   "metadata": {},
   "outputs": [],
   "source": [
    "model.pi = pyo.Param(model.k, initialize=pi, mutable=True)\n",
    "model.lambd = pyo.Var(domain=pyo.NonNegativeReals)\n",
    "\n",
    "model.obj = pyo.Objective(expr=model.lambd)\n",
    "model.new_cons = pyo.ConstraintList()\n",
    "\n",
    "model.cons_dm = pyo.ConstraintList()\n",
    "for k in model.k:\n",
    "    model.cons_dm.add(\n",
    "        expr=model.lambd>=(income_matrix[k, k]-sum(model.c[k, j]*model.x[j] for j in model.j))*model.pi[k]\n",
    "    )"
   ]
  },
  {
   "cell_type": "code",
   "execution_count": 28,
   "metadata": {},
   "outputs": [
    {
     "name": "stdout",
     "output_type": "stream",
     "text": [
      "f0 = [-368492.96778414]\n",
      "f1 = [216087.47880535]\n"
     ]
    }
   ],
   "source": [
    "opt = pyo.SolverFactory('cplex')\n",
    "opt.solve(model)\n",
    "\n",
    "x = [pyo.value(model.x[j]) for j in model.j]\n",
    "res = [f(k, *x) for k in range(K)]\n",
    "\n",
    "for i in range(len(res)):\n",
    "    print(f'f{i} = {res[i]}')"
   ]
  },
  {
   "cell_type": "markdown",
   "metadata": {},
   "source": [
    "## Step 2"
   ]
  },
  {
   "cell_type": "markdown",
   "metadata": {},
   "source": [
    "#### Input"
   ]
  },
  {
   "cell_type": "code",
   "execution_count": 29,
   "metadata": {},
   "outputs": [],
   "source": [
    "func_old = np.array([-368492.96778414, 216087.47880535])\n",
    "adjustment_data = {0: 36504.682}"
   ]
  },
  {
   "cell_type": "code",
   "execution_count": 30,
   "metadata": {},
   "outputs": [],
   "source": [
    "adjustment_key = list(adjustment_data.keys())[0]\n",
    "adjustment_value = adjustment_data[adjustment_key]\n",
    "\n",
    "for k in range(K):\n",
    "    model.pi[k] = 1/(I-1)\n",
    "model.pi[adjustment_key] = 0\n",
    "\n",
    "\n",
    "\n",
    "for k in range(K):\n",
    "    if k == adjustment_key:\n",
    "        model.new_cons.add(\n",
    "            expr=sum(model.c[k, j]*model.x[j] for j in model.j)>=(func_old[k]-adjustment_value)\n",
    "        )\n",
    "        continue\n",
    "    model.new_cons.add(\n",
    "        expr=sum(model.c[k, j]*model.x[j] for j in model.j)>=func_old[k]\n",
    "    )"
   ]
  },
  {
   "cell_type": "code",
   "execution_count": 31,
   "metadata": {},
   "outputs": [
    {
     "name": "stdout",
     "output_type": "stream",
     "text": [
      "f0 = [-404997.64978414]\n",
      "f1 = [233199.67096978]\n"
     ]
    }
   ],
   "source": [
    "opt = pyo.SolverFactory('cplex')\n",
    "opt.solve(model)\n",
    "\n",
    "x = [pyo.value(model.x[j]) for j in model.j]\n",
    "res = [f(k, *x) for k in range(K)]\n",
    "\n",
    "for i in range(len(res)):\n",
    "    print(f'f{i} = {res[i]}')\n",
    "\n",
    "model.new_cons.clear()"
   ]
  }
 ],
 "metadata": {
  "interpreter": {
   "hash": "55c251723805ba1e4488aaf039870beee10c7291dfaa9da35c8901f14cdcd6bd"
  },
  "kernelspec": {
   "display_name": "Python 3.9.7 64-bit ('venv': venv)",
   "language": "python",
   "name": "python3"
  },
  "language_info": {
   "codemirror_mode": {
    "name": "ipython",
    "version": 3
   },
   "file_extension": ".py",
   "mimetype": "text/x-python",
   "name": "python",
   "nbconvert_exporter": "python",
   "pygments_lexer": "ipython3",
   "version": "3.9.7"
  },
  "orig_nbformat": 4
 },
 "nbformat": 4,
 "nbformat_minor": 2
}
